{
 "cells": [
  {
   "cell_type": "markdown",
   "metadata": {
    "id": "V9mctTS9JG4d"
   },
   "source": [
    "## Оптимизация выполнения кода, векторизация, Numba"
   ]
  },
  {
   "cell_type": "markdown",
   "metadata": {
    "id": "C5EQzb-IJG4h"
   },
   "source": [
    "Материалы:\n",
    "* Макрушин С.В. Лекция 3: Оптимизация выполнения кода, векторизация, Numba\n",
    "* IPython Cookbook, Second Edition (2018), глава 4\n",
    "* https://numba.pydata.org/numba-doc/latest/user/5minguide.html"
   ]
  },
  {
   "cell_type": "markdown",
   "metadata": {
    "id": "6JsDNTLVJG4i"
   },
   "source": [
    "## Задачи для совместного разбора"
   ]
  },
  {
   "cell_type": "markdown",
   "metadata": {
    "id": "iPVXXlPCJG4j"
   },
   "source": [
    "1. Сгенерируйте массив `A` из `N=1млн` случайных целых чисел на отрезке от 0 до 1000. Пусть `B[i] = A[i] + 100`. Посчитайте среднее значение массива `B`."
   ]
  },
  {
   "cell_type": "code",
   "execution_count": null,
   "metadata": {
    "colab": {
     "base_uri": "https://localhost:8080/"
    },
    "id": "NeekRMyVJG4j",
    "outputId": "7f2ef67e-d0c1-4335-fdf4-579e0ad88c13"
   },
   "outputs": [
    {
     "data": {
      "text/plain": [
       "600.640027"
      ]
     },
     "execution_count": 4,
     "metadata": {},
     "output_type": "execute_result"
    }
   ],
   "source": [
    "import random\n",
    "N = 1_000_000\n",
    "A = [random.randint(0,1000) for i in range (N)]\n",
    "B = [i + 100 for i in A]\n",
    "average = sum(B)/N\n",
    "average"
   ]
  },
  {
   "cell_type": "markdown",
   "metadata": {
    "id": "FZJCDhcRJG4l"
   },
   "source": [
    "2. Создайте таблицу 2млн строк и с 4 столбцами, заполненными случайными числами. Добавьте столбец `key`, которые содержит элементы из множества английских букв. Выберите из таблицы подмножество строк, для которых в столбце `key` указаны первые 5 английских букв."
   ]
  },
  {
   "cell_type": "code",
   "execution_count": null,
   "metadata": {
    "colab": {
     "base_uri": "https://localhost:8080/"
    },
    "id": "Ag0FZFvYJ66A",
    "outputId": "a29ba1fa-3a50-4436-80a6-c512004667ea"
   },
   "outputs": [
    {
     "name": "stdout",
     "output_type": "stream",
     "text": [
      "     A    B    C    D    key\n",
      "0  256  130   27  734  LOTQT\n",
      "1  225  489  209  981  NACML\n",
      "2  934  779  170  667  KAMXL\n",
      "3  129  206  679  218  BMLKS\n",
      "4  572  756  415  658  RWFRF\n",
      "5  264  732  793  814  FSVOM\n",
      "6  489  155  448   50  IZBIO\n",
      "7   11  270  387  266  ZLWHN\n",
      "8  558  302  133  183  LOLLI\n",
      "9  189  737  466  572  TYGBE\n"
     ]
    }
   ],
   "source": [
    "import pandas as pd\n",
    "import numpy as np\n",
    "import random\n",
    "import string\n",
    "\n",
    "# Создание таблицы с 2млн строк и 4 столбцами со случайными числами\n",
    "data = pd.DataFrame(np.random.randint(0, 1000, size=(2000000, 4)), columns=list('ABCD'))\n",
    "\n",
    "# Добавление столбца 'key' со случайными английскими буквами\n",
    "def random_string(length):\n",
    "    \"\"\"Функция генерации случайной строки из английских букв\"\"\"\n",
    "    letters = string.ascii_lowercase\n",
    "    return ''.join(random.choice(letters) for i in range(length))\n",
    "\n",
    "data['key'] = [random_string(5).upper() for _ in range(len(data))]\n",
    "\n",
    "# Выбор подмножества строк, где в стобце 'key' указаны первые 5 английских букв\n",
    "subset = data[data['key'].str.contains('^[A-Z]{5}')]\n",
    "\n",
    "# Вывод первых 10 строк из выбранного подмножества\n",
    "print(subset.head(10))\n"
   ]
  },
  {
   "cell_type": "markdown",
   "metadata": {
    "id": "93wyHdAKJG4l"
   },
   "source": [
    "## Лабораторная работа 3"
   ]
  },
  {
   "cell_type": "code",
   "execution_count": null,
   "metadata": {
    "id": "_09-gsk1JG4m"
   },
   "outputs": [],
   "source": [
    "# !pip install line_profiler"
   ]
  },
  {
   "cell_type": "markdown",
   "metadata": {
    "id": "NLCsaY3qJG4n"
   },
   "source": [
    "1. В файлах `recipes_sample.csv` и `reviews_sample.csv` (__ЛР 2__) находится информация об рецептах блюд и отзывах на эти рецепты соответственно. Загрузите данные из файлов в виде `pd.DataFrame` с названиями `recipes` и `reviews`. Обратите внимание на корректное считывание столбца(ов) с индексами. Приведите столбцы к нужным типам.\n",
    "\n",
    "Реализуйте несколько вариантов функции подсчета среднего значения столбца `rating` из таблицы `reviews` для отзывов, оставленных в 2010 году.\n",
    "\n",
    "A. С использованием метода `DataFrame.iterrows` исходной таблицы;\n",
    "\n",
    "Б. С использованием метода `DataFrame.iterrows` таблицы, в которой сохранены только отзывы за 2010 год;\n",
    "\n",
    "В. С использованием метода `Series.mean`.\n",
    "\n",
    "Проверьте, что результаты работы всех написанных функций корректны и совпадают. Измерьте выполнения всех написанных функций.\n"
   ]
  },
  {
   "cell_type": "code",
   "execution_count": 7,
   "metadata": {
    "colab": {
     "base_uri": "https://localhost:8080/"
    },
    "id": "jrLcqi8gJ9In",
    "outputId": "97b9edd0-117c-4c18-e803-c4a009d8e169"
   },
   "outputs": [
    {
     "name": "stdout",
     "output_type": "stream",
     "text": [
      "Средний рейтинг А: 4.4544402182900615 Время выполнения: 6.42448616027832\n",
      "Средний рейтинг В: 4.4544402182900615 Время выполнения: 0.5293030738830566\n",
      "Средний рейтинг С: 4.4544402182900615 Время выполнения: 0.008047103881835938\n"
     ]
    }
   ],
   "source": [
    "import pandas as pd\n",
    "import time\n",
    "recipes = pd.read_csv('recipes_sample.csv')\n",
    "reviews = pd.read_csv('reviews_sample.csv')\n",
    "\n",
    "# Приведение столбцов к нужным типам\n",
    "recipes['id'] = recipes['id'].astype(int)\n",
    "recipes['minutes'] = recipes['minutes'].astype(int)\n",
    "\n",
    "reviews['user_id'] = reviews['user_id'].astype(int)\n",
    "reviews['recipe_id'] = reviews['recipe_id'].astype(int)\n",
    "reviews['rating'] = reviews['rating'].astype(float)\n",
    "reviews['date'] = pd.to_datetime(reviews['date'])\n",
    "\n",
    "def averge_value(file):\n",
    "    summ = 0\n",
    "    count = 0\n",
    "    for i, row in file.iterrows():\n",
    "        if row['date'].year == 2010:\n",
    "            summ += row['rating']\n",
    "            count += 1\n",
    "    return summ/count\n",
    "\n",
    "def averge_value2(file):\n",
    "    new_file = file[file['date'].dt.year == 2010]\n",
    "    summ = 0\n",
    "    count = 0\n",
    "    for i, row in new_file.iterrows():\n",
    "        summ += row['rating']\n",
    "        count += 1\n",
    "    return summ/count\n",
    "\n",
    "def averge_value3(file):\n",
    "    new_file = file[file['date'].dt.year == 2010]\n",
    "    return new_file['rating'].mean()\n",
    "\n",
    "start_time = time.time()\n",
    "av_val = averge_value(reviews)\n",
    "end_time = time.time()\n",
    "print(f\"Средний рейтинг А: {av_val} Время выполнения: {end_time-start_time}\")\n",
    "\n",
    "start_time = time.time()\n",
    "av_val2 = averge_value2(reviews)\n",
    "end_time = time.time()\n",
    "print(f\"Средний рейтинг В: {av_val2} Время выполнения: {end_time-start_time}\")\n",
    "\n",
    "start_time = time.time()\n",
    "av_val3 = averge_value3(reviews)\n",
    "end_time = time.time()\n",
    "print(f\"Средний рейтинг С: {av_val3} Время выполнения: {end_time-start_time}\")  "
   ]
  },
  {
   "cell_type": "markdown",
   "metadata": {
    "id": "G9SXFhMPJG4o"
   },
   "source": [
    "2. Какая из созданных функций выполняется медленнее? Что наиболее сильно влияет на скорость выполнения? Для ответа использовать профайлер `line_profiler`. Сохраните результаты работы профайлера в отдельную текстовую ячейку и прокомментируйте результаты его работы.\n",
    "\n",
    "(*). Сможете ли вы ускорить работу функции 1Б, отказавшись от использования метода `iterrows`, но не используя метод `mean`?"
   ]
  },
  {
   "cell_type": "code",
   "execution_count": 9,
   "metadata": {
    "colab": {
     "base_uri": "https://localhost:8080/",
     "height": 432
    },
    "id": "em1NDnHLJ-MB",
    "outputId": "0d0a49a6-8456-4b81-988f-5eb7d6f8bbee"
   },
   "outputs": [
    {
     "name": "stdout",
     "output_type": "stream",
     "text": [
      "The line_profiler extension is already loaded. To reload it, use:\n",
      "  %reload_ext line_profiler\n"
     ]
    }
   ],
   "source": [
    "%load_ext line_profiler\n",
    "\n",
    "%lprun -f averge_value averge_value(reviews)"
   ]
  },
  {
   "cell_type": "markdown",
   "metadata": {},
   "source": [
    "    Timer unit: 1e-07 s\n",
    "    Total time: 27.0202 s\n",
    "    \n",
    "Function: averge_value at line 15\n",
    "\n",
    "Line #      Hits         Time  Per Hit   % Time  Line Contents\n",
    "==============================================================\n",
    "    15                                           def averge_value(file):\n",
    "    16         1         24.0     24.0      0.0      summ = 0\n",
    "    17         1         14.0     14.0      0.0      count = 0\n",
    "    18    126696  235847119.0   1861.5     87.3      for i, row in file.iterrows():\n",
    "    19    114602   31463876.0    274.5     11.6          if row['date'].year == 2010:\n",
    "    20     12094    2797284.0    231.3      1.0              summ += row['rating']\n",
    "    21     12094      94017.0      7.8      0.0              count += 1\n",
    "    22         1          7.0      7.0      0.0      return summ/count"
   ]
  },
  {
   "cell_type": "code",
   "execution_count": 10,
   "metadata": {},
   "outputs": [],
   "source": [
    "%lprun -f averge_value2 averge_value2(reviews)"
   ]
  },
  {
   "cell_type": "markdown",
   "metadata": {},
   "source": [
    "    Timer unit: 1e-07 s\n",
    "    Total time: 2.75646 s\n",
    "\n",
    "Function: averge_value2 at line 24\n",
    "\n",
    "Line #      Hits         Time  Per Hit   % Time  Line Contents\n",
    "==============================================================\n",
    "    24                                           def averge_value2(file):\n",
    "    25         1     199394.0 199394.0      0.7      new_file = file[file['date'].dt.year == 2010]\n",
    "    26         1          7.0      7.0      0.0      summ = 0\n",
    "    27         1          7.0      7.0      0.0      count = 0\n",
    "    28     12094   23766224.0   1965.1     86.2      for i, row in new_file.iterrows():\n",
    "    29     12094    3517101.0    290.8     12.8          summ += row['rating']\n",
    "    30     12094      81848.0      6.8      0.3          count += 1\n",
    "    31         1          8.0      8.0      0.0      return summ/count"
   ]
  },
  {
   "cell_type": "code",
   "execution_count": 11,
   "metadata": {},
   "outputs": [],
   "source": [
    "%lprun -f averge_value3 averge_value3(reviews)"
   ]
  },
  {
   "cell_type": "markdown",
   "metadata": {},
   "source": [
    "    Timer unit: 1e-07 s\n",
    "    Total time: 0.0298065 s\n",
    "    \n",
    "Function: averge_value3 at line 33\n",
    "\n",
    "Line #      Hits         Time  Per Hit   % Time  Line Contents\n",
    "==============================================================\n",
    "    33                                           def averge_value3(file):\n",
    "    34         1     286082.0 286082.0     96.0    new_file = file[file['date'].dt.year == 2010]\n",
    "    35         1      11983.0  11983.0      4.0    return new_file['rating'].mean()"
   ]
  },
  {
   "cell_type": "markdown",
   "metadata": {
    "id": "nRBk01-aJG4o"
   },
   "source": [
    "3. Вам предлагается воспользоваться функцией, которая собирает статистику о том, сколько отзывов содержат то или иное слово. Измерьте время выполнения этой функции. Сможете ли вы найти узкие места в коде, используя профайлер? Выпишите (словами), что в имеющемся коде реализовано неоптимально. Оптимизируйте функцию и добейтесь значительного (как минимум, на один порядок) прироста в скорости выполнения."
   ]
  },
  {
   "cell_type": "code",
   "execution_count": 12,
   "metadata": {
    "id": "Kgt5-6JUJG4o"
   },
   "outputs": [],
   "source": [
    "def get_word_reviews_count(df):\n",
    "    word_reviews = {}\n",
    "    for _, row in df.dropna(subset=['review']).iterrows():\n",
    "        recipe_id, review = row['recipe_id'], row['review']\n",
    "        words = review.split(' ')\n",
    "        for word in words:\n",
    "            if word not in word_reviews:\n",
    "                word_reviews[word] = []\n",
    "            word_reviews[word].append(recipe_id)\n",
    "    \n",
    "    word_reviews_count = {}\n",
    "    for _, row in df.dropna(subset=['review']).iterrows():\n",
    "        review = row['review']\n",
    "        words = review.split(' ')\n",
    "        for word in words:\n",
    "            word_reviews_count[word] = len(word_reviews[word])\n",
    "    return word_reviews_count"
   ]
  },
  {
   "cell_type": "code",
   "execution_count": 13,
   "metadata": {},
   "outputs": [],
   "source": [
    "%lprun -f get_word_reviews_count get_word_reviews_count(reviews)"
   ]
  },
  {
   "cell_type": "markdown",
   "metadata": {},
   "source": [
    "    Timer unit: 1e-07 s\n",
    "    Total time: 99.6916 s\n",
    "\n",
    "Function: get_word_reviews_count at line 1\n",
    "\n",
    "Line #      Hits         Time  Per Hit   % Time  Line Contents\n",
    "==============================================================\n",
    "     1                                           def get_word_reviews_count(df):\n",
    "     2         1         15.0     15.0      0.0      word_reviews = {}\n",
    "     3    126679  240801682.0   1900.9     24.2      for _, row in df.dropna(subset=['review']).iterrows():\n",
    "     4    126679   60736804.0    479.5      6.1          recipe_id, review = row['recipe_id'], row['review']\n",
    "     5    126679    7369321.0     58.2      0.7          words = review.split(' ')\n",
    "     6   6792010   31060018.0      4.6      3.1          for word in words:\n",
    "     7   6617066   50879518.0      7.7      5.1              if word not in word_reviews:\n",
    "     8    174944    1455579.0      8.3      0.1                  word_reviews[word] = []\n",
    "     9   6792010   64152687.0      9.4      6.4              word_reviews[word].append(recipe_id)\n",
    "    10                                               \n",
    "    11         1         21.0     21.0      0.0      word_reviews_count = {}\n",
    "    12    126679  306783414.0   2421.7     30.8      for _, row in df.dropna(subset=['review']).iterrows():\n",
    "    13    126679   44411769.0    350.6      4.5          review = row['review']\n",
    "    14    126679    9895625.0     78.1      1.0          words = review.split(' ')\n",
    "    15   6792010   53278554.0      7.8      5.3          for word in words:\n",
    "    16   6792010  126090681.0     18.6     12.6              word_reviews_count[word] = len(word_reviews[word])\n",
    "    17         1          9.0      9.0      0.0      return word_reviews_count"
   ]
  },
  {
   "cell_type": "markdown",
   "metadata": {},
   "source": [
    "Чтобы оптимизировать функцию, используем один цикл для перебора строк и одновременного обновления словаря слов и связанных с ними идентификаторов просмотра. Затем мы можем один раз пройтись по словарю и подсчитать количество отзывов для каждого слова. Такой подход устраняет необходимость в нескольких циклах и вызовах функции len()."
   ]
  },
  {
   "cell_type": "code",
   "execution_count": 14,
   "metadata": {},
   "outputs": [],
   "source": [
    "def get_word_reviews_count_optimized(df):\n",
    "    word_reviews = {}\n",
    "    for _, row in df.dropna(subset=['review']).iterrows():\n",
    "        recipe_id, review = row['recipe_id'], row['review']\n",
    "        words = set(review.split(' '))\n",
    "        for word in words:\n",
    "            if word not in word_reviews:\n",
    "                word_reviews[word] = set()\n",
    "            word_reviews[word].add(recipe_id)\n",
    "    \n",
    "    word_reviews_count = {}\n",
    "    for word in word_reviews:\n",
    "        word_reviews_count[word] = len(word_reviews[word])\n",
    "    return word_reviews_count"
   ]
  },
  {
   "cell_type": "code",
   "execution_count": 15,
   "metadata": {},
   "outputs": [],
   "source": [
    "%lprun -f get_word_reviews_count_optimized get_word_reviews_count_optimized(reviews)"
   ]
  },
  {
   "cell_type": "markdown",
   "metadata": {},
   "source": [
    "    Timer unit: 1e-07 s\n",
    "    Total time: 45.3822 s\n",
    "\n",
    "Function: get_word_reviews_count_optimized at line 1\n",
    "\n",
    "Line #      Hits         Time  Per Hit   % Time  Line Contents\n",
    "==============================================================\n",
    "     1                                           def get_word_reviews_count_optimized(df):\n",
    "     2         1         38.0     38.0      0.0      word_reviews = {}\n",
    "     3    126679  242371884.0   1913.3     53.4      for _, row in df.dropna(subset=['review']).iterrows():\n",
    "     4    126679   60488423.0    477.5     13.3          recipe_id, review = row['recipe_id'], row['review']\n",
    "     5    126679   14716620.0    116.2      3.2          words = set(review.split(' '))\n",
    "     6   5387307   25890758.0      4.8      5.7          for word in words:\n",
    "     7   5212363   40184262.0      7.7      8.9              if word not in word_reviews:\n",
    "     8    174944    2001137.0     11.4      0.4                  word_reviews[word] = set()\n",
    "     9   5387307   64174646.0     11.9     14.1              word_reviews[word].add(recipe_id)\n",
    "    10                                               \n",
    "    11         1         20.0     20.0      0.0      word_reviews_count = {}\n",
    "    12    174944    1153746.0      6.6      0.3      for word in word_reviews:\n",
    "    13    174944    2840627.0     16.2      0.6          word_reviews_count[word] = len(word_reviews[word])\n",
    "    14         1          3.0      3.0      0.0      return word_reviews_count"
   ]
  },
  {
   "cell_type": "markdown",
   "metadata": {
    "id": "tUMPkHqXJG4p"
   },
   "source": [
    "4. Напишите несколько версий функции `MAPE` (см. [MAPE](https://en.wikipedia.org/wiki/Mean_absolute_percentage_error)) для расчета среднего абсолютного процентного отклонения значения рейтинга отзыва на рецепт от среднего значения рейтинга по всем отзывам для этого рецепта. \n",
    "    1. Без использования векторизованных операций и методов массивов `numpy` и без использования `numba`\n",
    "    2. Без использования векторизованных операций и методов массивов `numpy`, но с использованием `numba`\n",
    "    3. С использованием векторизованных операций и методов массивов `numpy`, но без использования `numba`\n",
    "    4. C использованием векторизованных операций и методов массивов `numpy` и `numba`\n",
    "    \n",
    "Измерьте время выполнения каждой из реализаций.\n",
    "\n",
    "Замечание: удалите из выборки отзывы с нулевым рейтингом.\n"
   ]
  },
  {
   "cell_type": "code",
   "execution_count": null,
   "metadata": {
    "id": "LwoJ-rJhJG4p"
   },
   "outputs": [],
   "source": []
  }
 ],
 "metadata": {
  "colab": {
   "provenance": []
  },
  "kernelspec": {
   "display_name": "Python 3 (ipykernel)",
   "language": "python",
   "name": "python3"
  },
  "language_info": {
   "codemirror_mode": {
    "name": "ipython",
    "version": 3
   },
   "file_extension": ".py",
   "mimetype": "text/x-python",
   "name": "python",
   "nbconvert_exporter": "python",
   "pygments_lexer": "ipython3",
   "version": "3.8.0"
  }
 },
 "nbformat": 4,
 "nbformat_minor": 1
}
