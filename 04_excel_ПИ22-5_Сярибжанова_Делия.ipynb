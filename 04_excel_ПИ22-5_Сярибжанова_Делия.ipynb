{
 "cells": [
  {
   "cell_type": "markdown",
   "metadata": {},
   "source": [
    "# Работа с Excel"
   ]
  },
  {
   "cell_type": "markdown",
   "metadata": {},
   "source": [
    "Материалы:\n",
    "* Макрушин С.В. Лекция 7: Работа с Excel\n",
    "* https://docs.xlwings.org/en/stable/quickstart.html\n",
    "* https://nbviewer.jupyter.org/github/pybokeh/jupyter_notebooks/blob/master/xlwings/Excel_Formatting.ipynb#search_text\n"
   ]
  },
  {
   "cell_type": "markdown",
   "metadata": {},
   "source": [
    "## Задачи для совместного разбора"
   ]
  },
  {
   "cell_type": "markdown",
   "metadata": {},
   "source": [
    "1. На листе \"Рецептура\" файла `себестоимостьА_в1.xlsx` для области \"Пшеничный хлеб\" рассчитать себестоимость всех видов продукции."
   ]
  },
  {
   "cell_type": "markdown",
   "metadata": {},
   "source": [
    "2. Результаты расчетов 1.1 сохранить в отдельном столбце области \"Пшеничный хлеб\""
   ]
  },
  {
   "cell_type": "markdown",
   "metadata": {},
   "source": [
    "3. Приблизить форматирование столбца, добавленного в задаче 2 к оформлению всей области."
   ]
  },
  {
   "cell_type": "markdown",
   "metadata": {},
   "source": [
    "4. Выполнить 3 с помощью \"протягиваемых\" формул."
   ]
  },
  {
   "cell_type": "markdown",
   "metadata": {},
   "source": [
    "## Лабораторная работа 7.1"
   ]
  },
  {
   "cell_type": "markdown",
   "metadata": {},
   "source": [
    "1. Загрузите данные из файлов `reviews_sample.csv` (__ЛР2__) и `recipes_sample.csv` (__ЛР5__) в виде `pd.DataFrame`. Обратите внимание на корректное считывание столбца(ов) с индексами. Оставьте в таблице с рецептами следующие столбцы: `id`, `name`, `minutes`, `submitted`, `description`, `n_ingredients`"
   ]
  },
  {
   "cell_type": "code",
   "execution_count": 33,
   "metadata": {},
   "outputs": [
    {
     "data": {
      "text/plain": [
       "0         NaN\n",
       "1         NaN\n",
       "2         NaN\n",
       "3         NaN\n",
       "4         4.0\n",
       "         ... \n",
       "29995    16.0\n",
       "29996     NaN\n",
       "29997     NaN\n",
       "29998     NaN\n",
       "29999     9.0\n",
       "Name: n_steps, Length: 30000, dtype: float64"
      ]
     },
     "execution_count": 33,
     "metadata": {},
     "output_type": "execute_result"
    }
   ],
   "source": [
    "import numpy as np\n",
    "import csv\n",
    "import pandas as pd\n",
    "recipes = pd.read_csv('recipes_sample.csv', delimiter = ',')\n",
    "reviews = pd.read_csv('reviews_sample.csv', delimiter = ',')\n",
    "recipes.pop('contributor_id')\n",
    "recipes.pop('n_steps')"
   ]
  },
  {
   "cell_type": "code",
   "execution_count": 34,
   "metadata": {},
   "outputs": [
    {
     "data": {
      "text/html": [
       "<div>\n",
       "<style scoped>\n",
       "    .dataframe tbody tr th:only-of-type {\n",
       "        vertical-align: middle;\n",
       "    }\n",
       "\n",
       "    .dataframe tbody tr th {\n",
       "        vertical-align: top;\n",
       "    }\n",
       "\n",
       "    .dataframe thead th {\n",
       "        text-align: right;\n",
       "    }\n",
       "</style>\n",
       "<table border=\"1\" class=\"dataframe\">\n",
       "  <thead>\n",
       "    <tr style=\"text-align: right;\">\n",
       "      <th></th>\n",
       "      <th>Unnamed: 0</th>\n",
       "      <th>user_id</th>\n",
       "      <th>recipe_id</th>\n",
       "      <th>date</th>\n",
       "      <th>rating</th>\n",
       "      <th>review</th>\n",
       "    </tr>\n",
       "  </thead>\n",
       "  <tbody>\n",
       "    <tr>\n",
       "      <th>0</th>\n",
       "      <td>370476</td>\n",
       "      <td>21752</td>\n",
       "      <td>57993</td>\n",
       "      <td>2003-05-01</td>\n",
       "      <td>5</td>\n",
       "      <td>Last week whole sides of frozen salmon fillet ...</td>\n",
       "    </tr>\n",
       "    <tr>\n",
       "      <th>1</th>\n",
       "      <td>624300</td>\n",
       "      <td>431813</td>\n",
       "      <td>142201</td>\n",
       "      <td>2007-09-16</td>\n",
       "      <td>5</td>\n",
       "      <td>So simple and so tasty!  I used a yellow capsi...</td>\n",
       "    </tr>\n",
       "    <tr>\n",
       "      <th>2</th>\n",
       "      <td>187037</td>\n",
       "      <td>400708</td>\n",
       "      <td>252013</td>\n",
       "      <td>2008-01-10</td>\n",
       "      <td>4</td>\n",
       "      <td>Very nice breakfast HH, easy to make and yummy...</td>\n",
       "    </tr>\n",
       "    <tr>\n",
       "      <th>3</th>\n",
       "      <td>706134</td>\n",
       "      <td>2001852463</td>\n",
       "      <td>404716</td>\n",
       "      <td>2017-12-11</td>\n",
       "      <td>5</td>\n",
       "      <td>These are a favorite for the holidays and so e...</td>\n",
       "    </tr>\n",
       "    <tr>\n",
       "      <th>4</th>\n",
       "      <td>312179</td>\n",
       "      <td>95810</td>\n",
       "      <td>129396</td>\n",
       "      <td>2008-03-14</td>\n",
       "      <td>5</td>\n",
       "      <td>Excellent soup!  The tomato flavor is just gre...</td>\n",
       "    </tr>\n",
       "  </tbody>\n",
       "</table>\n",
       "</div>"
      ],
      "text/plain": [
       "   Unnamed: 0     user_id  recipe_id        date  rating  \\\n",
       "0      370476       21752      57993  2003-05-01       5   \n",
       "1      624300      431813     142201  2007-09-16       5   \n",
       "2      187037      400708     252013  2008-01-10       4   \n",
       "3      706134  2001852463     404716  2017-12-11       5   \n",
       "4      312179       95810     129396  2008-03-14       5   \n",
       "\n",
       "                                              review  \n",
       "0  Last week whole sides of frozen salmon fillet ...  \n",
       "1  So simple and so tasty!  I used a yellow capsi...  \n",
       "2  Very nice breakfast HH, easy to make and yummy...  \n",
       "3  These are a favorite for the holidays and so e...  \n",
       "4  Excellent soup!  The tomato flavor is just gre...  "
      ]
     },
     "execution_count": 34,
     "metadata": {},
     "output_type": "execute_result"
    }
   ],
   "source": [
    "reviews.head()"
   ]
  },
  {
   "cell_type": "markdown",
   "metadata": {},
   "source": [
    "2. Случайным образом выберите 5% строк из каждой таблицы и сохраните две таблицы на разные листы в один файл `recipes.xlsx`. Дайте листам названия \"Рецепты\" и \"Отзывы\", соответствующие содержанию таблиц. "
   ]
  },
  {
   "cell_type": "code",
   "execution_count": 35,
   "metadata": {},
   "outputs": [
    {
     "name": "stdout",
     "output_type": "stream",
     "text": [
      "        Unnamed: 0  user_id  recipe_id        date  rating  \\\n",
      "40755       766374   378294     193955  2010-04-08       5   \n",
      "76714       686514   115758     218161  2007-04-11       5   \n",
      "19007       974404   411567      42169  2008-10-25       5   \n",
      "68963      1108559    14015      30358  2002-07-17       5   \n",
      "121781       61339    57695      66352  2005-09-28       5   \n",
      "...            ...      ...        ...         ...     ...   \n",
      "31826       442528    79944      98356  2004-09-13       3   \n",
      "104737      962939   283474     206939  2010-04-13       5   \n",
      "15375       216760   604017     118236  2008-12-27       5   \n",
      "36520      1072965   745889      58976  2008-02-03       4   \n",
      "90324      1065904    55128      13707  2008-01-13       5   \n",
      "\n",
      "                                                   review  \n",
      "40755         Couldn't get enough of them!  Great recipe!  \n",
      "76714   This made for a really tasty dinner. I cut my ...  \n",
      "19007   Oh WOW, these are good!  No complaints from an...  \n",
      "68963   I`am shocked like every one else that has trie...  \n",
      "121781  These were good and different from a reg old h...  \n",
      "...                                                   ...  \n",
      "31826                   good.  make sure to not overbake.  \n",
      "104737  Great healthy soup.  Had all the ingredients o...  \n",
      "15375   This turned out wonderfully.  I made them for ...  \n",
      "36520   Great easy recipe to make!  I made it for a 't...  \n",
      "90324   Yummy!!!  The family loved it. (And I didn't e...  \n",
      "\n",
      "[6335 rows x 6 columns]\n",
      "                                                    name      id  minutes  \\\n",
      "19358                                orange nanaimo bars   15674     1455   \n",
      "11541                                 frothy iced coffee  377978        2   \n",
      "7605                                   corn sesame saute  297548       20   \n",
      "19038  old drover s inn stuffed eggs with hickory smo...  293129       45   \n",
      "24468                             slow cooker beef diane  435738      615   \n",
      "...                                                  ...     ...      ...   \n",
      "19214                            onion bread for the abm  397218      185   \n",
      "19926                           passover fruit casserole  169852       65   \n",
      "2682                                    beef tamale bake  404754       50   \n",
      "23546                       sauteed swiss chard and corn  310370       10   \n",
      "5903                                    chicken picquant   20620       70   \n",
      "\n",
      "        submitted                                        description  \\\n",
      "19358  2001-12-12  for those who love 'orange', these are a must....   \n",
      "11541  2009-06-20  this recipe is from the 2009 cookbook, cool dr...   \n",
      "7605   2008-04-10  a different way of serving corn - yummy.\\r\\nus...   \n",
      "19038  2008-03-20  according to the new york times, old drover's ...   \n",
      "24468  2010-08-20  easy beef diane recipe.  chicken can also be u...   \n",
      "...           ...                                                ...   \n",
      "19214  2009-10-31  from electric bread.  a little bit different f...   \n",
      "19926  2006-05-25  the recipe is being posted for zwt ii. the rec...   \n",
      "2682   2009-12-22  ground beef mixed with onions, peppers and enc...   \n",
      "23546  2008-06-23  sauteed fresh red swiss chard, garlic, lemon j...   \n",
      "5903   2002-02-25  another family favorite that is spicy and out ...   \n",
      "\n",
      "       n_ingredients  \n",
      "19358            NaN  \n",
      "11541            5.0  \n",
      "7605             8.0  \n",
      "19038            6.0  \n",
      "24468            9.0  \n",
      "...              ...  \n",
      "19214           10.0  \n",
      "19926           10.0  \n",
      "2682             NaN  \n",
      "23546           11.0  \n",
      "5903             NaN  \n",
      "\n",
      "[1500 rows x 6 columns]\n"
     ]
    }
   ],
   "source": [
    "reviews_random = reviews.sample(frac = 0.05)\n",
    "recipes_random = recipes.sample(frac = 0.05)\n",
    "with pd.ExcelWriter('recipes.xlsx') as writer:\n",
    "    reviews_random.to_excel(writer, sheet_name = 'Отзывы', index=False)\n",
    "    recipes_random.to_excel(writer, sheet_name = 'Рецепты', index=False)\n",
    "print(reviews_random)\n",
    "print(recipes_random)"
   ]
  },
  {
   "cell_type": "markdown",
   "metadata": {},
   "source": [
    "3. Используя `xlwings`, добавьте на лист `Рецепты` столбец `seconds_assign`, показывающий время выполнения рецепта в секундах. Выполните задание при помощи присваивания массива значений диапазону ячеек."
   ]
  },
  {
   "cell_type": "code",
   "execution_count": 36,
   "metadata": {},
   "outputs": [],
   "source": [
    "import xlwings as xw\n",
    "wb = xw.Book('recipes.xlsx')\n",
    "seconds_assign_column = recipes_random[['minutes']] * 60\n",
    "seconds_assign_column.columns = ['seconds_assign']\n",
    "sh_arr = wb.sheets['Рецепты']\n",
    "sh_arr.range('H1').options(index=False).value = seconds_assign_column"
   ]
  },
  {
   "cell_type": "markdown",
   "metadata": {},
   "source": [
    "4. Используя `xlwings`, добавьте на лист `Рецепты` столбец `seconds_formula`, показывающий время выполнения рецепта в секундах. Выполните задание при помощи формул Excel."
   ]
  },
  {
   "cell_type": "code",
   "execution_count": 37,
   "metadata": {},
   "outputs": [],
   "source": [
    "fml = xw.Range('I2').formula = f'=D2*60'\n",
    "xw.Range('I2:I1501').formula = fml\n",
    "sh_arr.range('I1').value = 'seconds_formula'"
   ]
  },
  {
   "cell_type": "markdown",
   "metadata": {},
   "source": [
    "5. Сделайте названия всех добавленных столбцов полужирными и выровняйте по центру ячейки."
   ]
  },
  {
   "cell_type": "code",
   "execution_count": 38,
   "metadata": {},
   "outputs": [],
   "source": [
    "sh_arr.range('H1').api.Font.Bold = True\n",
    "sh_arr.range('I1').api.Font.Bold = True\n",
    "sh_arr.range('H1').api.HorizontalAlignment = -4108\n",
    "sh_arr.column_width = 15"
   ]
  },
  {
   "cell_type": "markdown",
   "metadata": {},
   "source": [
    "6. Раскрасьте ячейки столбца `minutes` в соответствии со следующим правилом: если рецепт выполняется быстрее 5 минут, то цвет - зеленый; от 5 до 10 минут - жёлтый; и больше 10 - красный."
   ]
  },
  {
   "cell_type": "code",
   "execution_count": 39,
   "metadata": {},
   "outputs": [],
   "source": [
    "for elem in sh_arr.range('C2:C1501'):\n",
    "    if elem.value < 5:\n",
    "        elem.color = (0,255,0)\n",
    "    elif elem.value >= 5 and elem.value <= 10:\n",
    "        elem.color = (255, 255, 0)\n",
    "    else:\n",
    "        elem.color = (255,0,0)"
   ]
  },
  {
   "cell_type": "markdown",
   "metadata": {},
   "source": [
    "7. Добавьте на лист `Рецепты`  столбец `n_reviews`, содержащий кол-во отзывов для этого рецепта. Выполните задание при помощи формул Excel."
   ]
  },
  {
   "cell_type": "code",
   "execution_count": 47,
   "metadata": {},
   "outputs": [],
   "source": [
    "sh_arr.range('J1').value = 'n_reviews'\n",
    "sh_arr.range('J1').api.Font.Bold = True\n",
    "\n",
    "count = len(reviews_random)\n",
    "fml = f'=COUNTIF(Отзывы!$C$2:Отзывы!$C${count},Отзывы!C2)'\n",
    "sh_arr.range(\"J2\").formula = fml\n",
    "xw.Range(\"J2:J1501\").formula = fml"
   ]
  },
  {
   "cell_type": "code",
   "execution_count": null,
   "metadata": {},
   "outputs": [],
   "source": []
  },
  {
   "cell_type": "markdown",
   "metadata": {},
   "source": [
    "## Лабораторная работа 7.2"
   ]
  },
  {
   "cell_type": "markdown",
   "metadata": {},
   "source": [
    "8. Напишите функцию `validate()`, которая проверяет соответствие всех строк из листа `Отзывы` следующим правилам:\n",
    "    * Рейтинг - это число от 0 до 5 включительно\n",
    "    * Соответствующий рецепт имеется на листе `Рецепты`\n",
    "    \n",
    "В случае несоответствия этим правилам, выделите строку красным цветом"
   ]
  },
  {
   "cell_type": "markdown",
   "metadata": {},
   "source": [
    "9. В файле `recipes_model.csv` находится модель данных предметной области \"рецепты\". При помощи пакета `csv` считайте эти данные. При помощи пакета `xlwings` запишите данные на лист `Модель` книги `recipes_model.xlsx`, начиная с ячейки `A2`, не используя циклы. Сделайте скриншот текущего состояния листа и прикрепите в ячейку ноутбука. "
   ]
  },
  {
   "cell_type": "markdown",
   "metadata": {},
   "source": [
    "10. При помощи пакета `xlwings` добавьте в столбец J формулу для описания столбца на языке SQL. Формула должна реализовывать следующую логику:\n",
    "\n",
    "    1\\. в начале строки идут значения из столбцов В и C (значение столбца С приведено к верхнему регистру), разделенные пробелом\n",
    "    \n",
    "    2\\. далее идут слова на основе столбца \"Ключ\"\n",
    "        2.1 если в столбце \"Ключ\" указано значение \"PK\", то дальше через пробел идет ключевое слово \"PRIMARY KEY\"\n",
    "        2.2 если в столбце \"Ключ\" указано значение \"FK\", то дальше через пробел идет ключевое слово \"REFERENCES\", затем значения столбцов H и I в формате \"название_таблицы(название_столбца)\"\n",
    "        \n",
    "    3\\. если в столбце \"Обязательно к заполнению\" указано значение \"Y\" и в столбце \"Ключ\" указано не \"PK\", то дальше через пробел идет ключевое слово \"NOT NULL\".\n",
    "\n",
    "Заполните этой формулой необходимое количество строк, используя \"протягивание\". Количество строк для протягивания определите на основе данных.\n",
    "\n",
    "Сделайте скриншот текущего состояния листа и прикрепите в ячейку ноутбука."
   ]
  },
  {
   "cell_type": "markdown",
   "metadata": {},
   "source": [
    "11. При помощи пакета `xlwings` измените стилизацию листа `Модель`.\n",
    "* для заголовков добавьте заливку цвета `00ccff`\n",
    "* примените автоподбор ширины столбца;\n",
    "* сделайте шрифт заголовков полужирным;\n",
    "* добавьте таблице автофильтр.\n",
    "\n",
    "Сделайте скриншот текущего состояния листа и прикрепите в ячейку ноутбука."
   ]
  },
  {
   "cell_type": "markdown",
   "metadata": {},
   "source": [
    "12. Посчитайте количество атрибутов для каждой из сущностей. Создайте лист `Статистика` и запишите в него результат группировки, начиная с ячейки \"А1\". Визуализируйте полученный результат при помощи столбчатой диаграммы. Сохраните полученную визуализацию на лист `Статистика`, начиная с ячейки \"E2\".  Сделайте скриншот листа `Статистика` и прикрепите в ячейку ноутбука.\n",
    "\n",
    "* Вы можете воспользоваться методами для визуализации, которые поставляются вместе с объектами `pandas` (см. https://pandas.pydata.org/docs/reference/api/pandas.DataFrame.plot) "
   ]
  }
 ],
 "metadata": {
  "kernelspec": {
   "display_name": "Python 3 (ipykernel)",
   "language": "python",
   "name": "python3"
  },
  "language_info": {
   "codemirror_mode": {
    "name": "ipython",
    "version": 3
   },
   "file_extension": ".py",
   "mimetype": "text/x-python",
   "name": "python",
   "nbconvert_exporter": "python",
   "pygments_lexer": "ipython3",
   "version": "3.9.7"
  }
 },
 "nbformat": 4,
 "nbformat_minor": 4
}
