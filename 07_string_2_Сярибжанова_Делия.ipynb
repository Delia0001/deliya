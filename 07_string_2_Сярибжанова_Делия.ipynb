{
 "cells": [
  {
   "cell_type": "markdown",
   "metadata": {
    "id": "Vls2KKMIy9Rs"
   },
   "source": [
    "# Введение в обработку текста на естественном языке"
   ]
  },
  {
   "cell_type": "markdown",
   "metadata": {
    "id": "9-0ZucwVy9Rx"
   },
   "source": [
    "Материалы:\n",
    "* Макрушин С.В. Лекция 9: Введение в обработку текста на естественном языке\\\n",
    "* https://realpython.com/nltk-nlp-python/\n",
    "* https://scikit-learn.org/stable/modules/feature_extraction.html"
   ]
  },
  {
   "cell_type": "markdown",
   "metadata": {
    "id": "XyGtuqAdy9R1"
   },
   "source": [
    "## Лабораторная работа 7"
   ]
  },
  {
   "cell_type": "markdown",
   "metadata": {
    "id": "A2xReZh9y9R2"
   },
   "source": [
    "### Расстояние редактирования"
   ]
  },
  {
   "cell_type": "markdown",
   "metadata": {
    "id": "yp9pXC4xy9R2"
   },
   "source": [
    "1.1 Загрузите предобработанные описания рецептов из файла `preprocessed_descriptions.csv`. Получите набор уникальных слов `words`, содержащихся в текстах описаний рецептов (воспользуйтесь `word_tokenize` из `nltk`). "
   ]
  },
  {
   "cell_type": "code",
   "execution_count": 5,
   "metadata": {},
   "outputs": [
    {
     "name": "stderr",
     "output_type": "stream",
     "text": [
      "[nltk_data] Downloading package punkt to\n",
      "[nltk_data]     C:\\Users\\delia\\AppData\\Roaming\\nltk_data...\n",
      "[nltk_data]   Unzipping tokenizers\\punkt.zip.\n"
     ]
    },
    {
     "data": {
      "text/plain": [
       "True"
      ]
     },
     "execution_count": 5,
     "metadata": {},
     "output_type": "execute_result"
    }
   ],
   "source": [
    "import nltk\n",
    "nltk.download('punkt')"
   ]
  },
  {
   "cell_type": "code",
   "execution_count": 8,
   "metadata": {
    "colab": {
     "base_uri": "https://localhost:8080/",
     "height": 798
    },
    "id": "5J9kusEy_wIA",
    "outputId": "7322530d-694e-4c40-aa50-4e12fc7f79bc"
   },
   "outputs": [
    {
     "name": "stdout",
     "output_type": "stream",
     "text": [
      "['peri-peri', 'designing', '360', 'substitutes', 'ps', 'bush', 'dylan', 'offend', 'animal', 'fast-fry']\n"
     ]
    }
   ],
   "source": [
    "from nltk.tokenize import word_tokenize \n",
    "import pandas as pd\n",
    "recipes = pd.read_csv('recipes_sample.csv').dropna()\n",
    "words = []\n",
    "for descr in recipes['description']:\n",
    "    words += word_tokenize(descr)\n",
    "new_words = list(set(words))\n",
    "print(new_words[:10])"
   ]
  },
  {
   "cell_type": "markdown",
   "metadata": {
    "id": "jFQUNZAuy9R2"
   },
   "source": [
    "1.2 Сгенерируйте 5 пар случайно выбранных слов и посчитайте между ними расстояние редактирования."
   ]
  },
  {
   "cell_type": "code",
   "execution_count": 9,
   "metadata": {
    "colab": {
     "base_uri": "https://localhost:8080/"
    },
    "id": "yuVGgaig_wmH",
    "outputId": "863f37dc-0bd2-4d4d-d410-17310919ee2f"
   },
   "outputs": [
    {
     "name": "stdout",
     "output_type": "stream",
     "text": [
      "Пара: ['человек', 'Агрономия'], расстояние редактирования:8\n",
      "Пара: ['Шпаты', 'Вконец'], расстояние редактирования:6\n",
      "Пара: ['Цемент', 'Шпаты'], расстояние редактирования:6\n",
      "Пара: ['Агрономия', 'открытка'], расстояние редактирования:9\n",
      "Пара: ['открытка', 'Сохранить'], расстояние редактирования:8\n"
     ]
    }
   ],
   "source": [
    "import random \n",
    "from nltk.metrics import *\n",
    "our_lst = ['человек', 'открытка', 'змея', 'хозяин', 'Залежалый', 'Агрономия', 'Вконец', 'Сохранить', 'Цемент', 'Шпаты']\n",
    "lst = [0]*5\n",
    "for i in range(5):\n",
    "  lst[i] = random.sample(our_lst,2)\n",
    "  print(f'Пара: {lst[i]}, расстояние редактирования:{edit_distance(lst[i][0], lst[i][1])}')"
   ]
  },
  {
   "cell_type": "markdown",
   "metadata": {
    "id": "mS5m4QGCy9R3"
   },
   "source": [
    "1.3 Напишите функцию, которая для заданного слова `word` возвращает `k` ближайших к нему слов из списка `words` (близость слов измеряется с помощью расстояния Левенштейна)"
   ]
  },
  {
   "cell_type": "code",
   "execution_count": 10,
   "metadata": {
    "colab": {
     "base_uri": "https://localhost:8080/"
    },
    "id": "q-TU2p_6_xD4",
    "outputId": "a539ac81-f3a6-4569-de13-ac41e10738b8"
   },
   "outputs": [
    {
     "data": {
      "text/plain": [
       "['хозяин', 'змея', 'Вконец']"
      ]
     },
     "execution_count": 10,
     "metadata": {},
     "output_type": "execute_result"
    }
   ],
   "source": [
    "def find_nearest_word(word, words, k):\n",
    "  dct = {w: edit_distance(w, word) for w in words}\n",
    "  lst = sorted(dct, key=dct.get)[:k]\n",
    "  return lst\n",
    "find_nearest_word('хозяин', our_lst, 3)"
   ]
  },
  {
   "cell_type": "markdown",
   "metadata": {
    "id": "4IJlChSey9R3"
   },
   "source": [
    "### Стемминг, лемматизация"
   ]
  },
  {
   "cell_type": "markdown",
   "metadata": {
    "id": "DkmFxSH4y9R3"
   },
   "source": [
    "2.1 На основе результатов 1.1 создайте `pd.DataFrame` со столбцами: \n",
    "    * word\n",
    "    * stemmed_word \n",
    "    * normalized_word \n",
    "\n",
    "Столбец `word` укажите в качестве индекса. \n",
    "\n",
    "Для стемминга воспользуйтесь `SnowballStemmer`, для нормализации слов - `WordNetLemmatizer`. Сравните результаты стемминга и лемматизации."
   ]
  },
  {
   "cell_type": "code",
   "execution_count": 12,
   "metadata": {},
   "outputs": [
    {
     "name": "stderr",
     "output_type": "stream",
     "text": [
      "[nltk_data] Downloading package wordnet to\n",
      "[nltk_data]     C:\\Users\\delia\\AppData\\Roaming\\nltk_data...\n"
     ]
    },
    {
     "data": {
      "text/plain": [
       "True"
      ]
     },
     "execution_count": 12,
     "metadata": {},
     "output_type": "execute_result"
    }
   ],
   "source": [
    "import nltk\n",
    "from nltk.stem import *\n",
    "import pandas as pd\n",
    "nltk.download('wordnet')"
   ]
  },
  {
   "cell_type": "code",
   "execution_count": 18,
   "metadata": {
    "id": "Qqik023v_s0X"
   },
   "outputs": [
    {
     "data": {
      "text/html": [
       "<div>\n",
       "<style scoped>\n",
       "    .dataframe tbody tr th:only-of-type {\n",
       "        vertical-align: middle;\n",
       "    }\n",
       "\n",
       "    .dataframe tbody tr th {\n",
       "        vertical-align: top;\n",
       "    }\n",
       "\n",
       "    .dataframe thead th {\n",
       "        text-align: right;\n",
       "    }\n",
       "</style>\n",
       "<table border=\"1\" class=\"dataframe\">\n",
       "  <thead>\n",
       "    <tr style=\"text-align: right;\">\n",
       "      <th></th>\n",
       "      <th>stemmed_word</th>\n",
       "      <th>normalized_word</th>\n",
       "    </tr>\n",
       "    <tr>\n",
       "      <th>word</th>\n",
       "      <th></th>\n",
       "      <th></th>\n",
       "    </tr>\n",
       "  </thead>\n",
       "  <tbody>\n",
       "    <tr>\n",
       "      <th>peri-peri</th>\n",
       "      <td>peri-peri</td>\n",
       "      <td>peri-peri</td>\n",
       "    </tr>\n",
       "    <tr>\n",
       "      <th>designing</th>\n",
       "      <td>design</td>\n",
       "      <td>designing</td>\n",
       "    </tr>\n",
       "    <tr>\n",
       "      <th>360</th>\n",
       "      <td>360</td>\n",
       "      <td>360</td>\n",
       "    </tr>\n",
       "    <tr>\n",
       "      <th>substitutes</th>\n",
       "      <td>substitut</td>\n",
       "      <td>substitute</td>\n",
       "    </tr>\n",
       "    <tr>\n",
       "      <th>ps</th>\n",
       "      <td>ps</td>\n",
       "      <td>p</td>\n",
       "    </tr>\n",
       "    <tr>\n",
       "      <th>bush</th>\n",
       "      <td>bush</td>\n",
       "      <td>bush</td>\n",
       "    </tr>\n",
       "    <tr>\n",
       "      <th>dylan</th>\n",
       "      <td>dylan</td>\n",
       "      <td>dylan</td>\n",
       "    </tr>\n",
       "    <tr>\n",
       "      <th>offend</th>\n",
       "      <td>offend</td>\n",
       "      <td>offend</td>\n",
       "    </tr>\n",
       "    <tr>\n",
       "      <th>animal</th>\n",
       "      <td>anim</td>\n",
       "      <td>animal</td>\n",
       "    </tr>\n",
       "    <tr>\n",
       "      <th>fast-fry</th>\n",
       "      <td>fast-fri</td>\n",
       "      <td>fast-fry</td>\n",
       "    </tr>\n",
       "  </tbody>\n",
       "</table>\n",
       "</div>"
      ],
      "text/plain": [
       "            stemmed_word normalized_word\n",
       "word                                    \n",
       "peri-peri      peri-peri       peri-peri\n",
       "designing         design       designing\n",
       "360                  360             360\n",
       "substitutes    substitut      substitute\n",
       "ps                    ps               p\n",
       "bush                bush            bush\n",
       "dylan              dylan           dylan\n",
       "offend            offend          offend\n",
       "animal              anim          animal\n",
       "fast-fry        fast-fri        fast-fry"
      ]
     },
     "execution_count": 18,
     "metadata": {},
     "output_type": "execute_result"
    }
   ],
   "source": [
    "from nltk.stem import SnowballStemmer\n",
    "from nltk.stem import WordNetLemmatizer\n",
    "import pandas as pd\n",
    "\n",
    "snowball = SnowballStemmer(language='english')\n",
    "lemmatizer = WordNetLemmatizer()\n",
    "\n",
    "dic = {'word': new_words, 'stemmed_word': [snowball.stem(word) for word in new_words], 'normalized_word': [lemmatizer.lemmatize(word) for word in new_words]}\n",
    "new_df = pd.DataFrame(dic, index=dic['word']).set_index('word')\n",
    "new_df[:10]"
   ]
  },
  {
   "cell_type": "markdown",
   "metadata": {
    "id": "ycUW9vbcy9R3"
   },
   "source": [
    "2.2. Удалите стоп-слова из описаний рецептов. Какую долю об общего количества слов составляли стоп-слова? Сравните топ-10 самых часто употребляемых слов до и после удаления стоп-слов."
   ]
  },
  {
   "cell_type": "code",
   "execution_count": 20,
   "metadata": {},
   "outputs": [
    {
     "name": "stderr",
     "output_type": "stream",
     "text": [
      "[nltk_data] Downloading package stopwords to\n",
      "[nltk_data]     C:\\Users\\delia\\AppData\\Roaming\\nltk_data...\n",
      "[nltk_data]   Unzipping corpora\\stopwords.zip.\n"
     ]
    }
   ],
   "source": [
    "import nltk\n",
    "nltk.download(\"stopwords\")\n",
    "from nltk.corpus import stopwords"
   ]
  },
  {
   "cell_type": "code",
   "execution_count": 24,
   "metadata": {
    "id": "6kVhs4AI_tXm"
   },
   "outputs": [
    {
     "name": "stdout",
     "output_type": "stream",
     "text": [
      "{'now', 'so', 'were', 'should', 'few', 'most', 'mustn', 'of', 's', 'once', 'our', 'because', 'had', \"won't\", 'hasn', 'yourselves', \"it's\", \"weren't\", 'did', \"aren't\", 'other', 'at', 'needn', 'doesn', 'by', 'mightn', 'myself', 'ours', \"you've\", 'a', 'as', 'own', \"doesn't\", 'but', 'or', 'down', 'not', 'too', 'up', \"hadn't\", 'itself', 'being', 'couldn', 'very', \"shan't\", 'in', 'here', 'while', 'again', 'is', 'with', 'further', \"don't\", 'weren', \"hasn't\", 'wouldn', 'am', 'd', 'you', 'which', 'does', 'and', 'can', \"shouldn't\", 'after', 'won', 'how', 'about', 'she', 'more', 'no', 'don', 'whom', 'his', 'we', 'ma', 'against', 'on', 'below', 'each', 'where', 'them', 'are', \"should've\", \"mightn't\", 'above', 'll', 'the', 'an', \"mustn't\", 'do', 'doing', 'same', 'there', 'been', 'who', 'that', 'between', 'my', 'her', 'hers', 'under', 'it', 'has', \"didn't\", \"you'll\", 'will', 'have', 'all', 'such', 'be', 'into', 'through', 'this', 'having', 'wasn', 'theirs', 'both', 'herself', 'm', 're', 'shouldn', 'only', \"that'll\", 'then', 'than', \"wasn't\", 't', 'what', \"you're\", 'their', 'he', 'off', 'shan', 'if', 'why', 'before', \"isn't\", 'y', 'didn', 'out', \"wouldn't\", 'him', \"she's\", 'these', 'himself', 'yours', 'me', 'ain', 'your', 'haven', 'when', 'those', 'yourself', \"haven't\", \"you'd\", 'o', 'from', \"needn't\", 'until', 'hadn', 'i', 'for', 'to', 'they', 'over', 'just', \"couldn't\", 'themselves', 've', 'aren', 'ourselves', 'was', 'during', 'some', 'nor', 'any', 'its', 'isn'}\n",
      "доля стоп-слов от общего количества слов: 0.40275735662528994\n",
      "\n",
      "самые частоупотребляемые слова до удаления стоп-слов: .       29331\n",
      "the     17817\n",
      ",       17172\n",
      "a       15494\n",
      "and     13464\n",
      "i       12317\n",
      "this    12003\n",
      "it      10407\n",
      "to      10403\n",
      "is       9106\n",
      "dtype: int64\n",
      "\n",
      "самые частоупотребляемые слова после удаления стоп-слов: .         29331\n",
      ",         17172\n",
      "!          7032\n",
      "recipe     6656\n",
      "'s         3545\n",
      "make       2789\n",
      "time       2379\n",
      "n't        2154\n",
      "use        2052\n",
      "great      2027\n",
      "dtype: int64\n",
      "\n"
     ]
    }
   ],
   "source": [
    "from nltk.corpus import stopwords\n",
    "stopwords = set(stopwords.words('english'))\n",
    "print(stopwords)\n",
    "tokens_without_sw = [word for word in words if word.lower() not in stopwords]\n",
    "\n",
    "top10_before = pd.Series(words).value_counts().head(10)\n",
    "top10_after = pd.Series(tokens_without_sw).value_counts().head(10) \n",
    "\n",
    "stwords_count = len([word for word in words if word.lower() in stopwords])\n",
    "st_words_ratio = stwords_count/len(words)\n",
    "\n",
    "print(f'доля стоп-слов от общего количества слов: {st_words_ratio}\\n')\n",
    "print(f'самые частоупотребляемые слова до удаления стоп-слов: {top10_before}\\n')\n",
    "print(f'самые частоупотребляемые слова после удаления стоп-слов: {top10_after}\\n')"
   ]
  },
  {
   "cell_type": "markdown",
   "metadata": {
    "id": "LKpOUPsvy9R4"
   },
   "source": [
    "### Векторное представление текста"
   ]
  },
  {
   "cell_type": "markdown",
   "metadata": {
    "id": "tyb_HJYKy9R4"
   },
   "source": [
    "3.1 Выберите случайным образом 5 рецептов из набора данных. Представьте описание каждого рецепта в виде числового вектора при помощи `TfidfVectorizer`"
   ]
  },
  {
   "cell_type": "code",
   "execution_count": 14,
   "metadata": {
    "id": "1Gvb8VVK_uTN"
   },
   "outputs": [
    {
     "name": "stdout",
     "output_type": "stream",
     "text": [
      "Рецепт 12818: grilled broccolini packets\n",
      "Векторное описание: [[0.18092934 0.18092934 0.         0.         0.         0.\n",
      "  0.         0.         0.         0.         0.         0.\n",
      "  0.         0.         0.         0.18092934 0.12117049 0.\n",
      "  0.14597266 0.18092934 0.         0.         0.         0.18092934\n",
      "  0.18092934 0.36185869 0.18092934 0.18092934 0.18092934 0.18092934\n",
      "  0.18092934 0.         0.         0.         0.         0.18092934\n",
      "  0.18092934 0.18092934 0.         0.18092934 0.18092934 0.18092934\n",
      "  0.18092934 0.         0.         0.         0.18092934 0.18092934\n",
      "  0.18092934 0.         0.12117049 0.18092934 0.18092934 0.\n",
      "  0.         0.18092934 0.         0.         0.18092934 0.        ]]\n",
      "Рецепт 20666: phillips crab cakes\n",
      "Векторное описание: [[0.         0.         0.28230185 0.28230185 0.         0.\n",
      "  0.         0.         0.5646037  0.28230185 0.28230185 0.\n",
      "  0.22775935 0.         0.         0.         0.18906084 0.\n",
      "  0.         0.         0.28230185 0.         0.         0.\n",
      "  0.         0.         0.         0.         0.         0.\n",
      "  0.         0.         0.         0.         0.28230185 0.\n",
      "  0.         0.         0.         0.         0.         0.\n",
      "  0.         0.         0.28230185 0.         0.         0.\n",
      "  0.         0.         0.18906084 0.         0.         0.\n",
      "  0.         0.         0.         0.         0.         0.        ]]\n",
      "Рецепт 2356: bartender s root beer\n",
      "Векторное описание: [[0.         0.         0.         0.         0.         0.53849791\n",
      "  0.         0.         0.         0.         0.         0.\n",
      "  0.         0.         0.         0.         0.36063833 0.\n",
      "  0.         0.         0.         0.53849791 0.         0.\n",
      "  0.         0.         0.         0.         0.         0.\n",
      "  0.         0.         0.         0.         0.         0.\n",
      "  0.         0.         0.         0.         0.         0.\n",
      "  0.         0.         0.         0.         0.         0.\n",
      "  0.         0.         0.         0.         0.         0.\n",
      "  0.53849791 0.         0.         0.         0.         0.        ]]\n",
      "Рецепт 23597: savory pork chop casserole\n",
      "Векторное описание: [[0.  0.  0.  0.  0.5 0.  0.  0.  0.  0.  0.  0.  0.  0.  0.5 0.  0.  0.5\n",
      "  0.  0.  0.  0.  0.5 0.  0.  0.  0.  0.  0.  0.  0.  0.  0.  0.  0.  0.\n",
      "  0.  0.  0.  0.  0.  0.  0.  0.  0.  0.  0.  0.  0.  0.  0.  0.  0.  0.\n",
      "  0.  0.  0.  0.  0.  0. ]]\n",
      "Рецепт 15210: karol z no bake pecan pie\n",
      "Векторное описание: [[0.         0.         0.         0.         0.         0.\n",
      "  0.22501561 0.22501561 0.         0.         0.         0.22501561\n",
      "  0.18154118 0.22501561 0.         0.         0.         0.\n",
      "  0.18154118 0.         0.         0.         0.         0.\n",
      "  0.         0.         0.         0.         0.         0.\n",
      "  0.         0.22501561 0.22501561 0.22501561 0.         0.\n",
      "  0.         0.         0.22501561 0.         0.         0.\n",
      "  0.         0.22501561 0.         0.22501561 0.         0.\n",
      "  0.         0.22501561 0.15069558 0.         0.         0.22501561\n",
      "  0.         0.         0.22501561 0.45003122 0.         0.22501561]]\n"
     ]
    }
   ],
   "source": [
    "from sklearn.feature_extraction.text import TfidfVectorizer\n",
    "import pandas as pd\n",
    "\n",
    "df = pd.read_csv('recipes_sample.csv')\n",
    "random_recipes = df.sample(n=5)\n",
    "\n",
    "vectorizer = TfidfVectorizer(stop_words='english')\n",
    "vector = vectorz.fit_transform(random_recipes['description'])\n",
    "\n",
    "k=0\n",
    "for i, recipe in random_recipes.iterrows():\n",
    "    print(f'Рецепт {i+1}: {recipe[\"name\"]}')\n",
    "    print(f'Векторное описание: {vector[k].toarray()}')\n",
    "    k+=1"
   ]
  },
  {
   "cell_type": "markdown",
   "metadata": {
    "id": "FFyZhp60y9R4"
   },
   "source": [
    "3.2 Вычислите близость между каждой парой рецептов, выбранных в задании 3.1, используя косинусное расстояние (`scipy.spatial.distance.cosine`) Результаты оформите в виде таблицы `pd.DataFrame`. В качестве названий строк и столбцов используйте названия рецептов."
   ]
  },
  {
   "cell_type": "code",
   "execution_count": 15,
   "metadata": {},
   "outputs": [
    {
     "data": {
      "text/html": [
       "<div>\n",
       "<style scoped>\n",
       "    .dataframe tbody tr th:only-of-type {\n",
       "        vertical-align: middle;\n",
       "    }\n",
       "\n",
       "    .dataframe tbody tr th {\n",
       "        vertical-align: top;\n",
       "    }\n",
       "\n",
       "    .dataframe thead th {\n",
       "        text-align: right;\n",
       "    }\n",
       "</style>\n",
       "<table border=\"1\" class=\"dataframe\">\n",
       "  <thead>\n",
       "    <tr style=\"text-align: right;\">\n",
       "      <th>description</th>\n",
       "      <th>my family loves this chicken recipe.  this is my version of outback steakhouse alice springs chicken.</th>\n",
       "      <th>i have only made these muffins with raspberries, but you could use apples, peaches, blueberries, etc.  make sure to use regular sour cream, not low-fat or non-fat as it really does make all the difference in the taste.</th>\n",
       "      <th>this is just like the salad at that \" steakhouse\" , but better at home</th>\n",
       "      <th>scrambling eggs in the microwave is a one dish affair.  no muss, no fuss.  these come out perfectly and taste delicious.  found this in an issue of everyday food.  microwave cooking times vary and mine actually needs 55 seconds at each step instead of the 45 seconds listed.  don't add extra salt until you've tasted it.</th>\n",
       "      <th>this is a scallop recipe from ina garten's new book in 2008\" back to basics.\" it makes a great dish for entertaining so most of the work is done ahead. easy dinner party item if you are serving 6 people no thought needed for the main course. pair with a salad and crusty bread. another winner by her and now you, when you make it. it can also be made using shrimp. enjoy! chefdlh</th>\n",
       "    </tr>\n",
       "  </thead>\n",
       "  <tbody>\n",
       "    <tr>\n",
       "      <th>0</th>\n",
       "      <td>1.000000</td>\n",
       "      <td>0.000000</td>\n",
       "      <td>0.084089</td>\n",
       "      <td>0.000000</td>\n",
       "      <td>0.033909</td>\n",
       "    </tr>\n",
       "    <tr>\n",
       "      <th>1</th>\n",
       "      <td>0.000000</td>\n",
       "      <td>1.000000</td>\n",
       "      <td>0.000000</td>\n",
       "      <td>0.021498</td>\n",
       "      <td>0.045368</td>\n",
       "    </tr>\n",
       "    <tr>\n",
       "      <th>2</th>\n",
       "      <td>0.084089</td>\n",
       "      <td>0.000000</td>\n",
       "      <td>1.000000</td>\n",
       "      <td>0.000000</td>\n",
       "      <td>0.049508</td>\n",
       "    </tr>\n",
       "    <tr>\n",
       "      <th>3</th>\n",
       "      <td>0.000000</td>\n",
       "      <td>0.021498</td>\n",
       "      <td>0.000000</td>\n",
       "      <td>1.000000</td>\n",
       "      <td>0.018920</td>\n",
       "    </tr>\n",
       "    <tr>\n",
       "      <th>4</th>\n",
       "      <td>0.033909</td>\n",
       "      <td>0.045368</td>\n",
       "      <td>0.049508</td>\n",
       "      <td>0.018920</td>\n",
       "      <td>1.000000</td>\n",
       "    </tr>\n",
       "  </tbody>\n",
       "</table>\n",
       "</div>"
      ],
      "text/plain": [
       "description  my family loves this chicken recipe.  this is my version of outback steakhouse alice springs chicken.  \\\n",
       "0                                                     1.000000                                                       \n",
       "1                                                     0.000000                                                       \n",
       "2                                                     0.084089                                                       \n",
       "3                                                     0.000000                                                       \n",
       "4                                                     0.033909                                                       \n",
       "\n",
       "description  i have only made these muffins with raspberries, but you could use apples, peaches, blueberries, etc.  make sure to use regular sour cream, not low-fat or non-fat as it really does make all the difference in the taste.  \\\n",
       "0                                                     0.000000                                                                                                                                                                            \n",
       "1                                                     1.000000                                                                                                                                                                            \n",
       "2                                                     0.000000                                                                                                                                                                            \n",
       "3                                                     0.021498                                                                                                                                                                            \n",
       "4                                                     0.045368                                                                                                                                                                            \n",
       "\n",
       "description  this is just like the salad at that \" steakhouse\" , but better at home  \\\n",
       "0                                                     0.084089                        \n",
       "1                                                     0.000000                        \n",
       "2                                                     1.000000                        \n",
       "3                                                     0.000000                        \n",
       "4                                                     0.049508                        \n",
       "\n",
       "description  scrambling eggs in the microwave is a one dish affair.  no muss, no fuss.  these come out perfectly and taste delicious.  found this in an issue of everyday food.  microwave cooking times vary and mine actually needs 55 seconds at each step instead of the 45 seconds listed.  don't add extra salt until you've tasted it.  \\\n",
       "0                                                     0.000000                                                                                                                                                                                                                                                                                  \n",
       "1                                                     0.021498                                                                                                                                                                                                                                                                                  \n",
       "2                                                     0.000000                                                                                                                                                                                                                                                                                  \n",
       "3                                                     1.000000                                                                                                                                                                                                                                                                                  \n",
       "4                                                     0.018920                                                                                                                                                                                                                                                                                  \n",
       "\n",
       "description  this is a scallop recipe from ina garten's new book in 2008\" back to basics.\" it makes a great dish for entertaining so most of the work is done ahead. easy dinner party item if you are serving 6 people no thought needed for the main course. pair with a salad and crusty bread. another winner by her and now you, when you make it. it can also be made using shrimp. enjoy! chefdlh  \n",
       "0                                                     0.033909                                                                                                                                                                                                                                                                                                                                            \n",
       "1                                                     0.045368                                                                                                                                                                                                                                                                                                                                            \n",
       "2                                                     0.049508                                                                                                                                                                                                                                                                                                                                            \n",
       "3                                                     0.018920                                                                                                                                                                                                                                                                                                                                            \n",
       "4                                                     1.000000                                                                                                                                                                                                                                                                                                                                            "
      ]
     },
     "execution_count": 15,
     "metadata": {},
     "output_type": "execute_result"
    }
   ],
   "source": [
    "from scipy.spatial import distance\n",
    "si = [] \n",
    "for i in range(vectors.shape[0]): \n",
    "    row = []\n",
    "    for j in range(vectors.shape[0]):\n",
    "        sim= 1 - distance.cosine(vectors[i].toarray().ravel(), vectors[j].toarray().ravel())   #ravel()-to change the dimension of vector to 1-D\n",
    "        row.append(sim) \n",
    "    si.append(row) \n",
    "s_df = pd.DataFrame(si, columns=random_recs['description']) \n",
    "s_df"
   ]
  },
  {
   "cell_type": "markdown",
   "metadata": {
    "id": "e8wGZesOy9R4"
   },
   "source": [
    "3.3 Какие рецепты являются наиболее похожими? Прокомментируйте результат (словами)."
   ]
  },
  {
   "cell_type": "code",
   "execution_count": null,
   "metadata": {},
   "outputs": [],
   "source": []
  }
 ],
 "metadata": {
  "colab": {
   "provenance": []
  },
  "kernelspec": {
   "display_name": "Python 3 (ipykernel)",
   "language": "python",
   "name": "python3"
  },
  "language_info": {
   "codemirror_mode": {
    "name": "ipython",
    "version": 3
   },
   "file_extension": ".py",
   "mimetype": "text/x-python",
   "name": "python",
   "nbconvert_exporter": "python",
   "pygments_lexer": "ipython3",
   "version": "3.8.0"
  }
 },
 "nbformat": 4,
 "nbformat_minor": 1
}
